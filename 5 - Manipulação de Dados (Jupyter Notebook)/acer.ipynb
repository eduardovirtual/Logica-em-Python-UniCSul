{
  "nbformat": 4,
  "nbformat_minor": 0,
  "metadata": {
    "colab": {
      "provenance": []
    },
    "kernelspec": {
      "name": "python3",
      "display_name": "Python 3"
    },
    "language_info": {
      "name": "python"
    }
  },
  "cells": [
    {
      "cell_type": "code",
      "execution_count": null,
      "metadata": {
        "id": "nN-l9FSiyVMZ"
      },
      "outputs": [],
      "source": []
    },
    {
      "cell_type": "code",
      "source": [
        "print(\"Hello World\")\n",
        "\n",
        "# Abertura do Arquivo\n",
        "dados = open(\"dados.txt\", \"r\")\n",
        "# Leia o conteúdo do arquivo\n",
        "conteudo = dados.read()\n",
        "# Imprimindo o arquivo txt\n",
        "print(conteudo)\n",
        "# Fechando o arquivo\n",
        "dados.close()\n",
        "\n",
        "# Abertura do arquivo\n",
        "dados = open(\"dados.txt\", \"w\")\n",
        "# Escrevendo o conteúdo do arquivo\n",
        "dados.write(\"\\n Escrevendo no arquivo de texto \\n\")\n",
        "# Fechando o arquivo\n",
        "dados.close()"
      ],
      "metadata": {
        "colab": {
          "base_uri": "https://localhost:8080/"
        },
        "id": "dW6ZKSF5y4Px",
        "outputId": "275b9298-d33b-4b5d-9934-a5a9a5ee5dcc"
      },
      "execution_count": 8,
      "outputs": [
        {
          "output_type": "stream",
          "name": "stdout",
          "text": [
            "Hello World\n",
            "\n",
            " Escrevendo no arquivo de texto \n",
            "\n"
          ]
        }
      ]
    },
    {
      "cell_type": "code",
      "source": [
        "# Tive que utilizar o \"encoding=\"utf-8\" para que o arquivo fosse lido\n",
        "# corretamente, pois aparentemente estava dando um erro de bytes, mas também\n",
        "# seria possível colocar \"rb\" para ler em bytes\n",
        "# ao invés de só \"r\" ou encoding=\"iso-8859-1\"\n",
        "segundoArquivo = open(\"segundoArquivoTexto.txt\", \"r\", encoding=\"iso-8859-1\")\n",
        "linha = segundoArquivo.readline();\n",
        "# Imprimindo a linha\n",
        "print(linha)\n",
        "print(\"-------------------------------------------------\")\n",
        "\n",
        "# Abrindo o arquivo\n",
        "segundoArquivo = open(\"segundoArquivoTexto.txt\", \"r\", encoding=\"iso-8859-1\")\n",
        "# Lendo e concatenando as linhas em uma única variável\n",
        "linhas = segundoArquivo.readlines();\n",
        "# Imprimindo as linhas separadamente\n",
        "for linha in linhas:\n",
        "  print(linha)"
      ],
      "metadata": {
        "colab": {
          "base_uri": "https://localhost:8080/"
        },
        "id": "faFq9u6i4K35",
        "outputId": "cbd2f35d-d0ba-41e7-a975-772f549aca28"
      },
      "execution_count": 28,
      "outputs": [
        {
          "output_type": "stream",
          "name": "stdout",
          "text": [
            "Este é meu segundo exemplo de arquivo em texto com Python.\n",
            "\n",
            "-------------------------------------------------\n",
            "Este é meu segundo exemplo de arquivo em texto com Python.\n",
            "\n",
            "Python é uma linguagem fantástica!\n",
            "\n",
            "É uma linguagem muito simples de programar.\n"
          ]
        }
      ]
    },
    {
      "cell_type": "code",
      "source": [
        "# Abrindo um arquivo para leitura e escrita ao mesmo tempo utilizando \"r+\"\n",
        "dados = open(\"dados.txt\", \"r+\")\n",
        "# Leia o conteúdo do arquivo\n",
        "conteudo = dados.read()\n",
        "# Imprimindo o conteúdo\n",
        "print(conteudo)\n",
        "# Escrevendo no arquivo\n",
        "dados.write(\"\\n Teste Python \\n\")\n",
        "# Fechando o arquivo\n",
        "dados.close()"
      ],
      "metadata": {
        "colab": {
          "base_uri": "https://localhost:8080/"
        },
        "id": "ZtEHJa3C9Si2",
        "outputId": "c874ffad-93dd-4086-9bda-85c6c8bf8abe"
      },
      "execution_count": 22,
      "outputs": [
        {
          "output_type": "stream",
          "name": "stdout",
          "text": [
            "\n",
            " Escrevendo no arquivo de texto \n",
            "\n"
          ]
        }
      ]
    },
    {
      "cell_type": "code",
      "source": [
        "# Como criar um Arquivo .txt em Python:\n",
        "\n",
        "def criar_arquivo_txt(nome_arquivo, conteudo):\n",
        "    try:\n",
        "        with open(nome_arquivo, 'w') as arquivo:\n",
        "            arquivo.write(conteudo)\n",
        "        print(f\"O arquivo '{nome_arquivo}' foi criado com sucesso!\")\n",
        "    except Exception as e:\n",
        "        print(f\"Erro ao criar o arquivo: {e}\")\n",
        "\n",
        "nome_arquivo = \"MeuArquivo.txt\"\n",
        "conteudo = \"teste Python.\"\n",
        "\n",
        "criar_arquivo_txt(nome_arquivo, conteudo)\n"
      ],
      "metadata": {
        "colab": {
          "base_uri": "https://localhost:8080/"
        },
        "id": "Ga_-wTiz-pAJ",
        "outputId": "3c543554-048f-4fb6-b83f-ddb91d84fe1d"
      },
      "execution_count": 26,
      "outputs": [
        {
          "output_type": "stream",
          "name": "stdout",
          "text": [
            "O arquivo 'MeuArquivo.txt' foi criado com sucesso!\n"
          ]
        }
      ]
    }
  ]
}